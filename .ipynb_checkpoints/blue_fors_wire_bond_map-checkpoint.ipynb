{
 "cells": [
  {
   "cell_type": "markdown",
   "metadata": {},
   "source": [
    "## Skills Demonstrated\n",
    "\n",
    "- qcodes database\n",
    "- Python - file.write function\n",
    "- Python - dictionaries\n",
    "- Python - yaml.ruamel loader/dumper package\n",
    "- Python - pandas dataframe\n",
    "- Blue-Fors Dilution Refrigerator - Wire Bonds Mapping\n",
    "\n"
   ]
  },
  {
   "cell_type": "markdown",
   "metadata": {},
   "source": [
    "## Keywords"
   ]
  },
  {
   "cell_type": "markdown",
   "metadata": {},
   "source": [
    "Blue Fors, Daughterboard, Chip, Wire Bonding, connection, map, mapping"
   ]
  },
  {
   "cell_type": "markdown",
   "metadata": {},
   "source": [
    "## Converting Excel Chip Mapping to qcodes Friendly .yaml File"
   ]
  },
  {
   "cell_type": "markdown",
   "metadata": {},
   "source": [
    "This code converts mapping between daughteboard and chip pads to a qcodes friendly .yaml file instruemtn list.\n",
    "\n",
    "NOTE: The following code omits blank entries under the \"db_pad\" entry in the excel and only ports paired connections to the resulting .yamls file.\n",
    "\n",
    "The mapping goes from this:\n",
    "\n",
    "<img src=\"./pic_excel.png\" width = 400> \n",
    " \n",
    " To This: \n",
    " \n",
    " <img src=\"./pic_yaml.png\" width = 400> "
   ]
  },
  {
   "cell_type": "code",
   "execution_count": 2,
   "metadata": {},
   "outputs": [],
   "source": [
    "## Read excel file and to port it to a dictionary. \n",
    "\n",
    "import pandas as pd\n",
    "df = pd.read_excel('.\\dummy_map.xlsx')\n",
    "dict_1 = df.to_dict()"
   ]
  },
  {
   "cell_type": "markdown",
   "metadata": {},
   "source": [
    "## Method I - using Python file.write\n",
    "Unpackign dict_1 and writing the .yaml file"
   ]
  },
  {
   "cell_type": "code",
   "execution_count": 3,
   "metadata": {},
   "outputs": [],
   "source": [
    "with open('bonds_1.yaml','w') as file:\n",
    "    \n",
    "    ## introductory Lines to .yaml file\n",
    "    file.write(\"instruments:\\n\")\n",
    "    file.write(\"  daughterboard:\\n\")\n",
    "    file.write(\"    init:\\n\")\n",
    "    file.write(\"      connections:\\n\")\n",
    "    \n",
    "    for key in dict_1[\"bond_pad\"].keys():\n",
    "        \n",
    "        ## if statment included to omit unpaired entries\n",
    "        if str(dict_1[\"db_pad\"][key]) != \"nan\":\n",
    "            \n",
    "            file.write(\"      - endpoints: [\" + str(dict_1[\"bond_pad\"][key]) + \"]\\n\" \n",
    "                       +\"        name: \" + str(dict_1[\"db_pad\"][key]) +\"\\n\"\n",
    "                       +\"        ohms: 0.0\" + \"\\n\"\n",
    "                      )\n",
    "    ## Concluding Line of .yaml file   \n",
    "    file.write(\"    type: [INSERT CONNECTOR NAME HERE]\")"
   ]
  },
  {
   "cell_type": "markdown",
   "metadata": {},
   "source": [
    "## Method II - using Python's ruamel\n",
    "Creating a dictionary in the format that we want to .yaml instrument list to look like, and then dumping this dictionary to file usin the ruamel package."
   ]
  },
  {
   "cell_type": "code",
   "execution_count": 11,
   "metadata": {},
   "outputs": [],
   "source": [
    "from ruamel.yaml import YAML\n",
    "from copy import deepcopy\n",
    "import numpy as np\n",
    "\n",
    "\n",
    "## Extracting only the relevant collumns of the excel file: \"bond_pad\" & \"db_pad\"\n",
    "\n",
    "dict_2 = dict((k, dict_1[k]) for k in (\"bond_pad\", \"db_pad\"))\n",
    "\n",
    "## Formatting how we want our final dict to look like\n",
    "## NOTE: that connection's is a key to a list\n",
    "##       this allows the \"dash\" to show up on the output\n",
    "##       .yaml file\n",
    "dict_f = {\"instruments\": \n",
    "          {\"daughterboard\": \n",
    "           {\"init\": \n",
    "            {\"connections\": [], \"type\": '[INSERT CONNECTOR NAME HERE]'\n",
    "            } \n",
    "           } \n",
    "          } \n",
    "         }\n",
    "\n",
    "\n",
    "## Define an edge dictionary that will be modified duiring each \n",
    "## iteration of the upcoming for-loop and entered as a list entry\n",
    "## for the key \"connections\" in dict_f\n",
    "edge = {\n",
    "        'endpoints': 'sample',\n",
    "        'name': 'sample',\n",
    "        'ohms': 0.0\n",
    "}\n",
    "\n",
    "\n",
    "for key,val in dict_2[\"bond_pad\"].items():\n",
    "    \n",
    "    ## if statement to skip blank entries in \"db_pad\"\n",
    "    if dict_2[\"db_pad\"][key] is np.nan:\n",
    "        pass\n",
    "    \n",
    "    else:\n",
    "        edge[\"endpoints\"] = [str(val)]\n",
    "        edge[\"name\"] = dict_2[\"db_pad\"][key]\n",
    "        \n",
    "        ## deepcopy used to create new objects in dict_f \n",
    "        ## insead of just providing references to objects elewhere\n",
    "        dict_f[\"instruments\"][\"daughterboard\"][\"init\"][\"connections\"].append(deepcopy(edge))\n",
    "    \n",
    "## Using ruamel to \"dumpt\" the file\n",
    "\n",
    "yaml = YAML()\n",
    "\n",
    "with open('bonds_2.yaml','w') as file:\n",
    "   yaml.dump(dict_f, file)"
   ]
  },
  {
   "cell_type": "code",
   "execution_count": null,
   "metadata": {},
   "outputs": [],
   "source": []
  }
 ],
 "metadata": {
  "kernelspec": {
   "display_name": "Python 3",
   "language": "python",
   "name": "python3"
  },
  "language_info": {
   "codemirror_mode": {
    "name": "ipython",
    "version": 3
   },
   "file_extension": ".py",
   "mimetype": "text/x-python",
   "name": "python",
   "nbconvert_exporter": "python",
   "pygments_lexer": "ipython3",
   "version": "3.7.9"
  }
 },
 "nbformat": 4,
 "nbformat_minor": 4
}
